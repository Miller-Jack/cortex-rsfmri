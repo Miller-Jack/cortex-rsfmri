{
 "cells": [
  {
   "cell_type": "code",
   "execution_count": null,
   "id": "4cea69a0-d169-4739-ad3b-309f9ab00bab",
   "metadata": {},
   "outputs": [],
   "source": [
    "import pandas as pd\n",
    "import networkx as nx\n",
    "import matplotlib\n",
    "import matplotlib.pyplot as plt\n",
    "import time\n",
    "from itertools import chain\n",
    "import numpy as np\n",
    "from numpy import trapz\n",
    "import seaborn as sns\n",
    "import statsmodels.formula.api as smf\n",
    "from scipy import stats\n",
    "matplotlib.style.use('fivethirtyeight')"
   ]
  },
  {
   "cell_type": "markdown",
   "id": "a23281b2-8023-4bf4-b192-56bfb03e16fa",
   "metadata": {
    "tags": []
   },
   "source": [
    "# Read in Data and Set Up DataFrames"
   ]
  },
  {
   "cell_type": "markdown",
   "id": "ae5a97d2-ed03-49ea-aeb8-c58090b8b33c",
   "metadata": {},
   "source": [
    "## Demographic Data"
   ]
  },
  {
   "cell_type": "code",
   "execution_count": null,
   "id": "7aac2550-554c-4287-9347-936039ca43a5",
   "metadata": {},
   "outputs": [],
   "source": [
    "Demographic info\n",
    "#Get variable for white/nonwhite\n",
    "demodf = pd.read_csv('pdem02.csv')\n",
    "relcols =['subjectkey','demo_race_a_p___10', 'demo_race_a_p___11', 'demo_ethn_v2', 'demo_race_a_p___18', 'demo_race_a_p___19', 'demo_race_a_p___20', 'demo_race_a_p___21',\n",
    "         'demo_race_a_p___22', 'demo_race_a_p___23', 'demo_race_a_p___24', 'demo_comb_income_v2']\n",
    "demodf = demodf[relcols].copy()\n",
    "\n",
    "demodf.set_index('subjectkey', inplace=True)\n",
    "\n",
    "demodf['Asian'] = demodf[['demo_race_a_p___18', 'demo_race_a_p___19', 'demo_race_a_p___20', 'demo_race_a_p___21', 'demo_race_a_p___22', 'demo_race_a_p___23', 'demo_race_a_p___24']].any(axis='columns')\n",
    "demodf['White'] = demodf['demo_race_a_p___10']\n",
    "demodf['Black'] =demodf['demo_race_a_p___11']\n",
    "demodf['Latinx'] = demodf['demo_ethn_v2']\n",
    "\n",
    "#Recode latinx \n",
    "recodedict= {1:1, 2:0}\n",
    "demodf['Latinx']=demodf['Latinx'].replace(recodedict)"
   ]
  },
  {
   "cell_type": "code",
   "execution_count": null,
   "id": "fb9d238e-d73b-46f7-b2fb-183cc4a1b7cc",
   "metadata": {},
   "outputs": [],
   "source": [
    "#Income \n",
    "\n",
    "recode25 = {1: 1, 2:1, 3:1, 4:1, 5:0, 6:0, 7:0, 8:0, 9:0, 10:0, 777:0, 999:0}\n",
    "recode50 = {1: 0, 2:0, 3:0, 4:0, 5:1, 6:1, 7:0, 8:0, 9:0, 10:0, 777:0, 999:0}\n",
    "recode100 = {1: 0, 2:0, 3:0, 4:0, 5:0, 6:0, 7:1, 8:1, 9:0,10:0, 777:0, 999:0}\n",
    "recode200 = {1: 0, 2:0, 3:0, 4:0, 5:0, 6:0, 7:0, 8:0, 9:1, 10:1, 777:0, 999:0}\n",
    "\n",
    "demodf['<$25k'] = demodf['demo_comb_income_v2']\n",
    "demodf['<$25k'] = demodf['<$25k'].replace(recode25)\n",
    "demodf['$25-50k']= demodf['demo_comb_income_v2']\n",
    "demodf['$25-50k'] = demodf['$25-50k'].replace(recode50)\n",
    "demodf['$50-100k'] = demodf['demo_comb_income_v2']\n",
    "demodf['$50-100k'] = demodf['$50-100k'].replace(recode100)\n",
    "demodf['>$100k'] = demodf['demo_comb_income_v2']\n",
    "demodf['>$100k'] = demodf['>$100k'].replace(recode200)"
   ]
  },
  {
   "cell_type": "markdown",
   "id": "8100dce9-99c3-4325-9c7c-c56df9c554f9",
   "metadata": {},
   "source": [
    "## Participant Dataframe"
   ]
  },
  {
   "cell_type": "code",
   "execution_count": null,
   "id": "c7beabdb-8bcd-4e86-b1b7-848581cdaa6e",
   "metadata": {},
   "outputs": [],
   "source": [
    "df = pd.read_csv('participants.csv')\n",
    "\n",
    "df.set_index('subjectkey', inplace=True)"
   ]
  },
  {
   "cell_type": "code",
   "execution_count": null,
   "id": "5fa0e6a4-6ec3-4d4b-94d6-29671c67a0d3",
   "metadata": {},
   "outputs": [],
   "source": [
    "#delete columns that are only zeros (i.e. columns that are only included in one timepoint)\n",
    "participants = df.loc[:, (df != 0).any(axis=0)]"
   ]
  },
  {
   "cell_type": "markdown",
   "id": "006891e4-9eea-46ae-b888-a0ff221c03d6",
   "metadata": {},
   "source": [
    "## Functional Connectivity"
   ]
  },
  {
   "cell_type": "code",
   "execution_count": null,
   "id": "bd2c6275-6378-41d7-8ec7-d2f9ba6a39be",
   "metadata": {},
   "outputs": [],
   "source": [
    "restqc= pd.read_csv('abcd_betnet02.csv')\n",
    "restqc= restqc[['subjectkey', 'eventname', 'rsfmri_c_ngd_ntpoints']].copy()\n",
    "restqc.set_index('subjectkey', inplace=True)\n",
    "display(restqc)"
   ]
  },
  {
   "cell_type": "code",
   "execution_count": null,
   "id": "334505b7-434c-4da0-b647-198b76ad6999",
   "metadata": {},
   "outputs": [],
   "source": [
    "#set up timepoint dfs\n",
    "restqct1 = restqc[restqc['eventname']== 'baseline_year_1_arm_1']\n",
    "restqct2 = restqc[restqc['eventname']== '2_year_follow_up_y_arm_1']\n",
    "\n",
    "#timepoint1\n",
    "restqct1 = restqct1.rename(columns= {'eventname':'eventname', 'rsfmri_c_ngd_ntpoints':'fmri_tpoint1'})\n",
    "restqct1= restqct1[['fmri_tpoint1']].copy()\n",
    "\n",
    "#timepoint2\n",
    "restqct2 = restqct2.rename(columns= {'eventname':'eventname', 'rsfmri_c_ngd_ntpoints':'fmri_tpoint2'})\n",
    "restqct2= restqct2[['fmri_tpoint2']].copy()"
   ]
  },
  {
   "cell_type": "markdown",
   "id": "6ab8d4f5-161e-4f0d-b1a1-321ae702ce40",
   "metadata": {},
   "source": [
    "## Structural Measures"
   ]
  },
  {
   "cell_type": "code",
   "execution_count": null,
   "id": "18cddeba-6561-49a6-8beb-880e3f972267",
   "metadata": {},
   "outputs": [],
   "source": [
    "# apply exclusion criteria \n",
    "qc = pd.read_csv('freesqc01.csv')\n",
    "qc = qc[['subjectkey','eventname','fsqc_qc']].copy()"
   ]
  },
  {
   "cell_type": "code",
   "execution_count": null,
   "id": "a952d379-1949-458f-92f5-c7100439c032",
   "metadata": {},
   "outputs": [],
   "source": [
    "#timepoint dfs:\n",
    "qct1 = qc[qc['eventname']== 'baseline_year_1_arm_1']\n",
    "qct2 = qc[qc['eventname']== '2_year_follow_up_y_arm_1']\n",
    "\n",
    "qct1 = qct1[['subjectkey', 'fsqc_qc', 'iqc_rsfmri_ok_ser','iqc_t1_ok_ser','iqc_rsfmri_ok_sub_02_filt_nody']]\n",
    "qct2 = qct2[['subjectkey', 'fsqc_qc', 'iqc_rsfmri_ok_ser','iqc_t1_ok_ser','iqc_rsfmri_ok_sub_02_filt_nody']]\n",
    "\n",
    "qct1.set_index('subjectkey', inplace=True)\n",
    "qct2.set_index('subjectkey', inplace=True)"
   ]
  },
  {
   "cell_type": "markdown",
   "id": "cef5d562-a619-41c7-9434-d4c85964a7e2",
   "metadata": {},
   "source": [
    "## Merge Structural and Functional Measures"
   ]
  },
  {
   "cell_type": "code",
   "execution_count": null,
   "id": "f94ee78b-b443-4229-8fae-856c6ce40ff7",
   "metadata": {},
   "outputs": [],
   "source": [
    "time1mri = qct1.merge(restqct1, left_index=True, right_index=True)"
   ]
  },
  {
   "cell_type": "code",
   "execution_count": null,
   "id": "eb556f33-c8a7-458c-a2b7-9d63db8923d3",
   "metadata": {},
   "outputs": [],
   "source": [
    "time2mri = qct2.merge(restqct2, left_index=True, right_index=True)"
   ]
  },
  {
   "cell_type": "markdown",
   "id": "562cf626-ced4-438d-bbd4-43ba5e68d6cf",
   "metadata": {},
   "source": [
    "## Inclusion"
   ]
  },
  {
   "cell_type": "code",
   "execution_count": null,
   "id": "cc5b78af-ef6b-451e-a4b9-4d10bb438d9a",
   "metadata": {},
   "outputs": [],
   "source": [
    "def inclusion(row, timepoint):\n",
    "    if row['fsqc_qc'] == 1:\n",
    "        if row[timepoint]>375:\n",
    "            if row['iqc_rsfmri_ok_ser'] >2:\n",
    "                if row['iqc_t1_ok_ser'] != 0:\n",
    "                    if row['iqc_rsfmri_ok_sub_02_filt_nody'] > 600:\n",
    "                        return 1\n",
    "                    else:\n",
    "                        return 0\n",
    "                else:\n",
    "                    return 0\n",
    "            else:\n",
    "                return 0\n",
    "        else:\n",
    "            return 0\n",
    "    else:\n",
    "        return 0\n",
    "    "
   ]
  },
  {
   "cell_type": "code",
   "execution_count": null,
   "id": "c7f79f1a-9c18-42d8-af52-ed4d422b19a0",
   "metadata": {},
   "outputs": [],
   "source": [
    "time1mri['pass'] = time1mri.apply(lambda row: inclusion(row, 'fmri_tpoint1'),axis=1)\n",
    "time2mri['pass'] = time2mri.apply(\n",
    "    row: inclusion(row, 'fmri_tpoint2'),axis=1)"
   ]
  },
  {
   "cell_type": "code",
   "execution_count": null,
   "id": "7d53c12f-0d4b-46c6-8e21-8753fc782a91",
   "metadata": {},
   "outputs": [],
   "source": [
    "mripass = time1mri.merge(time2mri, left_index=True, right_index=True)"
   ]
  },
  {
   "cell_type": "code",
   "execution_count": null,
   "id": "ee64a365-0423-4952-9c53-eaa0525815ad",
   "metadata": {},
   "outputs": [],
   "source": [
    "participants2 = participants.merge(mripass, left_index=True, right_index=True)"
   ]
  },
  {
   "cell_type": "markdown",
   "id": "c4fba05e-7b02-4b58-913a-150afe654dc5",
   "metadata": {},
   "source": [
    "## Set up full participant dataframe"
   ]
  },
  {
   "cell_type": "code",
   "execution_count": null,
   "id": "6af8e335-e183-4d8f-b10a-09e518d9a869",
   "metadata": {},
   "outputs": [],
   "source": [
    "weekdayst = ['screen1_wkdy_y.t0', 'screen2_wkdy_y.t0', 'screen3_wkdy_y.t0', 'screen4_wkdy_y.t0', 'screen5_wkdy_y.t0', 'screen_wkdy_y.t0']\n",
    "\n",
    "weekendst = ['screen7_wknd_y.t0', 'screen8_wknd_y.t0', 'screen9_wknd_y.t0', 'screen10_wknd_y.t0', 'screen11_wknd_y.t0', 'screen12_wknd_y.t0']"
   ]
  },
  {
   "cell_type": "code",
   "execution_count": null,
   "id": "15582f76-7619-4f5f-8076-1ed5d2ac9fc6",
   "metadata": {},
   "outputs": [],
   "source": [
    "wkdystsum = participants[weekdayst].sum(axis=1)\n",
    "wkndstsum = participants[weekendst].sum(axis=1)"
   ]
  },
  {
   "cell_type": "code",
   "execution_count": null,
   "id": "e339df68-695c-43ad-82a5-a16162ce8f45",
   "metadata": {},
   "outputs": [],
   "source": [
    "ST = 5*wkdystsum + 2*wkndstsum\n",
    "participants['ST.t0'] = ST"
   ]
  },
  {
   "cell_type": "code",
   "execution_count": null,
   "id": "fad77294-4b98-44d5-a45b-5544d0073214",
   "metadata": {},
   "outputs": [],
   "source": [
    "#this is legacy code from when structural and functional code were separated - need validp for later code\n",
    "validp = participants"
   ]
  },
  {
   "cell_type": "markdown",
   "id": "c02d32b9-2cf4-4901-8767-3604c6c2b618",
   "metadata": {},
   "source": [
    "## Set up subcortical averages"
   ]
  },
  {
   "cell_type": "code",
   "execution_count": null,
   "id": "0c9f7619-b035-40c7-b56b-4a359d9fc893",
   "metadata": {},
   "outputs": [],
   "source": [
    "#establish the columns to be averaged\n",
    "aud_to_sub = ['rsfmri_cor_ngd_au_scs_crcxlh', 'rsfmri_cor_ngd_au_scs_thplh', 'rsfmri_cor_ngd_au_scs_cdelh', 'rsfmri_cor_ngd_au_scs_ptlh', 'rsfmri_cor_ngd_au_scs_pllh', 'rsfmri_cor_ngd_au_scs_bs', 'rsfmri_cor_ngd_au_scs_hplh', 'rsfmri_cor_ngd_au_scs_aglh', 'rsfmri_cor_ngd_au_scs_aalh', 'rsfmri_cor_ngd_au_scs_vtdclh', 'rsfmri_cor_ngd_au_scs_crcxrh', 'rsfmri_cor_ngd_au_scs_thprh', 'rsfmri_cor_ngd_au_scs_cderh', 'rsfmri_cor_ngd_au_scs_ptrh', 'rsfmri_cor_ngd_au_scs_plrh', 'rsfmri_cor_ngd_au_scs_hprh', 'rsfmri_cor_ngd_au_scs_agrh', 'rsfmri_cor_ngd_au_scs_aarh', 'rsfmri_cor_ngd_au_scs_vtdcrh']\n",
    "\n",
    "cingoper_to_sub = ['rsfmri_cor_ngd_cerc_scs_crcxlh', 'rsfmri_cor_ngd_cerc_scs_thplh', 'rsfmri_cor_ngd_cerc_scs_cdelh', 'rsfmri_cor_ngd_cerc_scs_ptlh', 'rsfmri_cor_ngd_cerc_scs_pllh', 'rsfmri_cor_ngd_cerc_scs_bs', 'rsfmri_cor_ngd_cerc_scs_hplh', 'rsfmri_cor_ngd_cerc_scs_aglh', 'rsfmri_cor_ngd_cerc_scs_aalh', 'rsfmri_cor_ngd_cerc_scs_vtdclh', 'rsfmri_cor_ngd_cerc_scs_crcxrh', 'rsfmri_cor_ngd_cerc_scs_thprh', 'rsfmri_cor_ngd_cerc_scs_cderh', 'rsfmri_cor_ngd_cerc_scs_ptrh', 'rsfmri_cor_ngd_cerc_scs_plrh', 'rsfmri_cor_ngd_cerc_scs_hprh', 'rsfmri_cor_ngd_cerc_scs_agrh', 'rsfmri_cor_ngd_cerc_scs_aarh', 'rsfmri_cor_ngd_cerc_scs_vtdcrh']\n",
    "\n",
    "cingpar_to_sub = ['rsfmri_cor_ngd_copa_scs_crcxlh', 'rsfmri_cor_ngd_copa_scs_thplh', 'rsfmri_cor_ngd_copa_scs_cdelh', 'rsfmri_cor_ngd_copa_scs_ptlh', 'rsfmri_cor_ngd_copa_scs_pllh', 'rsfmri_cor_ngd_copa_scs_bs', 'rsfmri_cor_ngd_copa_scs_hplh', 'rsfmri_cor_ngd_copa_scs_aglh', 'rsfmri_cor_ngd_copa_scs_aalh', 'rsfmri_cor_ngd_copa_scs_vtdclh', 'rsfmri_cor_ngd_copa_scs_crcxrh', 'rsfmri_cor_ngd_copa_scs_thprh', 'rsfmri_cor_ngd_copa_scs_cderh', 'rsfmri_cor_ngd_copa_scs_ptrh', 'rsfmri_cor_ngd_copa_scs_plrh', 'rsfmri_cor_ngd_copa_scs_hprh', 'rsfmri_cor_ngd_copa_scs_agrh', 'rsfmri_cor_ngd_copa_scs_aarh', 'rsfmri_cor_ngd_copa_scs_vtdcrh']\n",
    "\n",
    "default_to_sub = ['rsfmri_cor_ngd_df_scs_crcxlh', 'rsfmri_cor_ngd_df_scs_thplh', 'rsfmri_cor_ngd_df_scs_cdelh', 'rsfmri_cor_ngd_df_scs_ptlh', 'rsfmri_cor_ngd_df_scs_pllh', 'rsfmri_cor_ngd_df_scs_bs', 'rsfmri_cor_ngd_df_scs_hplh', 'rsfmri_cor_ngd_df_scs_aglh', 'rsfmri_cor_ngd_df_scs_aalh', 'rsfmri_cor_ngd_df_scs_vtdclh', 'rsfmri_cor_ngd_df_scs_crcxrh', 'rsfmri_cor_ngd_df_scs_thprh', 'rsfmri_cor_ngd_df_scs_cderh', 'rsfmri_cor_ngd_df_scs_ptrh', 'rsfmri_cor_ngd_df_scs_plrh', 'rsfmri_cor_ngd_df_scs_hprh', 'rsfmri_cor_ngd_df_scs_agrh', 'rsfmri_cor_ngd_df_scs_aarh', 'rsfmri_cor_ngd_df_scs_vtdcrh']\n",
    "\n",
    "DAN_to_sub = ['rsfmri_cor_ngd_dsa_scs_crcxlh', 'rsfmri_cor_ngd_dsa_scs_thplh', 'rsfmri_cor_ngd_dsa_scs_cdelh', 'rsfmri_cor_ngd_dsa_scs_ptlh', 'rsfmri_cor_ngd_dsa_scs_pllh', 'rsfmri_cor_ngd_dsa_scs_bs', 'rsfmri_cor_ngd_dsa_scs_hplh', 'rsfmri_cor_ngd_dsa_scs_aglh', 'rsfmri_cor_ngd_dsa_scs_aalh', 'rsfmri_cor_ngd_dsa_scs_vtdclh', 'rsfmri_cor_ngd_dsa_scs_crcxrh', 'rsfmri_cor_ngd_dsa_scs_thprh', 'rsfmri_cor_ngd_dsa_scs_cderh', 'rsfmri_cor_ngd_dsa_scs_ptrh', 'rsfmri_cor_ngd_dsa_scs_plrh', 'rsfmri_cor_ngd_dsa_scs_hprh', 'rsfmri_cor_ngd_dsa_scs_agrh', 'rsfmri_cor_ngd_dsa_scs_aarh', 'rsfmri_cor_ngd_dsa_scs_vtdcrh']\n",
    "\n",
    "frontopar_to_sub = ['rsfmri_cor_ngd_fopa_scs_crcxlh', 'rsfmri_cor_ngd_fopa_scs_thplh', 'rsfmri_cor_ngd_fopa_scs_cdelh', 'rsfmri_cor_ngd_fopa_scs_ptlh', 'rsfmri_cor_ngd_fopa_scs_pllh', 'rsfmri_cor_ngd_fopa_scs_bs', 'rsfmri_cor_ngd_fopa_scs_hplh', 'rsfmri_cor_ngd_fopa_scs_aglh', 'rsfmri_cor_ngd_fopa_scs_aalh', 'rsfmri_cor_ngd_fopa_scs_vtdclh', 'rsfmri_cor_ngd_fopa_scs_crcxrh', 'rsfmri_cor_ngd_fopa_scs_thprh', 'rsfmri_cor_ngd_fopa_scs_cderh', 'rsfmri_cor_ngd_fopa_scs_ptrh', 'rsfmri_cor_ngd_fopa_scs_plrh', 'rsfmri_cor_ngd_fopa_scs_hprh', 'rsfmri_cor_ngd_fopa_scs_agrh', 'rsfmri_cor_ngd_fopa_scs_aarh', 'rsfmri_cor_ngd_fopa_scs_vtdcrh']\n",
    "\n",
    "other_to_sub = ['rsfmri_cor_ngd_none_scs_crcxlh', 'rsfmri_cor_ngd_none_scs_thplh', 'rsfmri_cor_ngd_none_scs_cdelh', 'rsfmri_cor_ngd_none_scs_ptlh', 'rsfmri_cor_ngd_none_scs_pllh', 'rsfmri_cor_ngd_none_scs_bs', 'rsfmri_cor_ngd_none_scs_hplh', 'rsfmri_cor_ngd_none_scs_aglh', 'rsfmri_cor_ngd_none_scs_aalh', 'rsfmri_cor_ngd_none_scs_vtdclh', 'rsfmri_cor_ngd_none_scs_crcxrh', 'rsfmri_cor_ngd_none_scs_thprh', 'rsfmri_cor_ngd_none_scs_cderh', 'rsfmri_cor_ngd_none_scs_ptrh', 'rsfmri_cor_ngd_none_scs_plrh', 'rsfmri_cor_ngd_none_scs_hprh', 'rsfmri_cor_ngd_none_scs_agrh', 'rsfmri_cor_ngd_none_scs_aarh', 'rsfmri_cor_ngd_none_scs_vtdcrh']\n",
    "\n",
    "retrotemp_to_sub =['rsfmri_cor_ngd_rst_scs_crcxlh', 'rsfmri_cor_ngd_rst_scs_thplh', 'rsfmri_cor_ngd_rst_scs_cdelh', 'rsfmri_cor_ngd_rst_scs_ptlh', 'rsfmri_cor_ngd_rst_scs_pllh', 'rsfmri_cor_ngd_rst_scs_bs', 'rsfmri_cor_ngd_rst_scs_hplh', 'rsfmri_cor_ngd_rst_scs_aglh', 'rsfmri_cor_ngd_rst_scs_aalh', 'rsfmri_cor_ngd_rst_scs_vtdclh', 'rsfmri_cor_ngd_rst_scs_crcxrh', 'rsfmri_cor_ngd_rst_scs_thprh', 'rsfmri_cor_ngd_rst_scs_cderh', 'rsfmri_cor_ngd_rst_scs_ptrh', 'rsfmri_cor_ngd_rst_scs_plrh', 'rsfmri_cor_ngd_rst_scs_hprh', 'rsfmri_cor_ngd_rst_scs_agrh', 'rsfmri_cor_ngd_rst_scs_aarh', 'rsfmri_cor_ngd_rst_scs_vtdcrh']\n",
    "\n",
    "senshand_to_sub = ['rsfmri_cor_ngd_smh_scs_crcxlh', 'rsfmri_cor_ngd_smh_scs_thplh', 'rsfmri_cor_ngd_smh_scs_cdelh', 'rsfmri_cor_ngd_smh_scs_ptlh', 'rsfmri_cor_ngd_smh_scs_pllh', 'rsfmri_cor_ngd_smh_scs_bs', 'rsfmri_cor_ngd_smh_scs_hplh', 'rsfmri_cor_ngd_smh_scs_aglh', 'rsfmri_cor_ngd_smh_scs_aalh', 'rsfmri_cor_ngd_smh_scs_vtdclh', 'rsfmri_cor_ngd_smh_scs_crcxrh', 'rsfmri_cor_ngd_smh_scs_thprh', 'rsfmri_cor_ngd_smh_scs_cderh', 'rsfmri_cor_ngd_smh_scs_ptrh', 'rsfmri_cor_ngd_smh_scs_plrh', 'rsfmri_cor_ngd_smh_scs_hprh', 'rsfmri_cor_ngd_smh_scs_agrh', 'rsfmri_cor_ngd_smh_scs_aarh', 'rsfmri_cor_ngd_smh_scs_vtdcrh']\n",
    "\n",
    "sensmouth_to_sub = ['rsfmri_cor_ngd_smm_scs_crcxlh', 'rsfmri_cor_ngd_smm_scs_thplh', 'rsfmri_cor_ngd_smm_scs_cdelh', 'rsfmri_cor_ngd_smm_scs_ptlh', 'rsfmri_cor_ngd_smm_scs_pllh', 'rsfmri_cor_ngd_smm_scs_bs', 'rsfmri_cor_ngd_smm_scs_hplh', 'rsfmri_cor_ngd_smm_scs_aglh', 'rsfmri_cor_ngd_smm_scs_aalh', 'rsfmri_cor_ngd_smm_scs_vtdclh', 'rsfmri_cor_ngd_smm_scs_crcxrh', 'rsfmri_cor_ngd_smm_scs_thprh', 'rsfmri_cor_ngd_smm_scs_cderh', 'rsfmri_cor_ngd_smm_scs_ptrh', 'rsfmri_cor_ngd_smm_scs_plrh', 'rsfmri_cor_ngd_smm_scs_hprh', 'rsfmri_cor_ngd_smm_scs_agrh', 'rsfmri_cor_ngd_smm_scs_aarh', 'rsfmri_cor_ngd_smm_scs_vtdcrh']\n",
    "\n",
    "salience_to_sub = ['rsfmri_cor_ngd_sa_scs_crcxlh', 'rsfmri_cor_ngd_sa_scs_thplh', 'rsfmri_cor_ngd_sa_scs_cdelh', 'rsfmri_cor_ngd_sa_scs_ptlh', 'rsfmri_cor_ngd_sa_scs_pllh', 'rsfmri_cor_ngd_sa_scs_bs', 'rsfmri_cor_ngd_sa_scs_hplh', 'rsfmri_cor_ngd_sa_scs_aglh', 'rsfmri_cor_ngd_sa_scs_aalh', 'rsfmri_cor_ngd_sa_scs_vtdclh', 'rsfmri_cor_ngd_sa_scs_crcxrh', 'rsfmri_cor_ngd_sa_scs_thprh', 'rsfmri_cor_ngd_sa_scs_cderh', 'rsfmri_cor_ngd_sa_scs_ptrh', 'rsfmri_cor_ngd_sa_scs_plrh', 'rsfmri_cor_ngd_sa_scs_hprh', 'rsfmri_cor_ngd_sa_scs_agrh', 'rsfmri_cor_ngd_sa_scs_aarh', 'rsfmri_cor_ngd_sa_scs_vtdcrh']\n",
    "\n",
    "VAN_to_sub = ['rsfmri_cor_ngd_vta_scs_crcxlh', 'rsfmri_cor_ngd_vta_scs_thplh', 'rsfmri_cor_ngd_vta_scs_cdelh', 'rsfmri_cor_ngd_vta_scs_ptlh', 'rsfmri_cor_ngd_vta_scs_pllh', 'rsfmri_cor_ngd_vta_scs_bs', 'rsfmri_cor_ngd_vta_scs_hplh', 'rsfmri_cor_ngd_vta_scs_aglh', 'rsfmri_cor_ngd_vta_scs_aalh', 'rsfmri_cor_ngd_vta_scs_vtdclh', 'rsfmri_cor_ngd_vta_scs_crcxrh', 'rsfmri_cor_ngd_vta_scs_thprh', 'rsfmri_cor_ngd_vta_scs_cderh', 'rsfmri_cor_ngd_vta_scs_ptrh', 'rsfmri_cor_ngd_vta_scs_plrh', 'rsfmri_cor_ngd_vta_scs_hprh', 'rsfmri_cor_ngd_vta_scs_agrh', 'rsfmri_cor_ngd_vta_scs_aarh', 'rsfmri_cor_ngd_vta_scs_vtdcrh']\n",
    "\n",
    "visual_to_sub = ['rsfmri_cor_ngd_vs_scs_crcxlh', 'rsfmri_cor_ngd_vs_scs_thplh', 'rsfmri_cor_ngd_vs_scs_cdelh', 'rsfmri_cor_ngd_vs_scs_ptlh', 'rsfmri_cor_ngd_vs_scs_pllh', 'rsfmri_cor_ngd_vs_scs_bs', 'rsfmri_cor_ngd_vs_scs_hplh', 'rsfmri_cor_ngd_vs_scs_aglh', 'rsfmri_cor_ngd_vs_scs_aalh', 'rsfmri_cor_ngd_vs_scs_vtdclh', 'rsfmri_cor_ngd_vs_scs_crcxrh', 'rsfmri_cor_ngd_vs_scs_thprh', 'rsfmri_cor_ngd_vs_scs_cderh', 'rsfmri_cor_ngd_vs_scs_ptrh', 'rsfmri_cor_ngd_vs_scs_plrh', 'rsfmri_cor_ngd_vs_scs_hprh', 'rsfmri_cor_ngd_vs_scs_agrh', 'rsfmri_cor_ngd_vs_scs_aarh', 'rsfmri_cor_ngd_vs_scs_vtdcrh']"
   ]
  },
  {
   "cell_type": "code",
   "execution_count": null,
   "id": "d95334ed-28a3-45e8-9816-69cb2b8c7ab2",
   "metadata": {},
   "outputs": [],
   "source": [
    "subcort = pd.read_csv('mrirscor02.csv')"
   ]
  },
  {
   "cell_type": "code",
   "execution_count": null,
   "id": "a956d5ae-c633-483b-8259-d60f50edbb98",
   "metadata": {},
   "outputs": [],
   "source": [
    "col = subcort.loc[: , aud_to_sub]\n",
    "subcort['aud_to_sub'] = col.mean(axis=1)\n",
    "\n",
    "col = subcort.loc[: , cingoper_to_sub]\n",
    "subcort['cingoper_to_sub'] = col.mean(axis=1)\n",
    "\n",
    "col = subcort.loc[: , cingpar_to_sub]\n",
    "subcort['cingpar_to_sub'] = col.mean(axis=1)\n",
    "\n",
    "col = subcort.loc[: , default_to_sub]\n",
    "subcort['default_to_sub'] = col.mean(axis=1)\n",
    "\n",
    "col = subcort.loc[: , DAN_to_sub]\n",
    "subcort['DAN_to_sub'] = col.mean(axis=1)\n",
    "\n",
    "col = subcort.loc[: , frontopar_to_sub]\n",
    "subcort['frontopar_to_sub'] = col.mean(axis=1)\n",
    "\n",
    "col = subcort.loc[: , other_to_sub]\n",
    "subcort['other_to_sub'] = col.mean(axis=1)\n",
    "\n",
    "col = subcort.loc[: , retrotemp_to_sub]\n",
    "subcort['retrotemp_to_sub'] = col.mean(axis=1)\n",
    "\n",
    "col = subcort.loc[: , senshand_to_sub]\n",
    "subcort['senshand_to_sub'] = col.mean(axis=1)\n",
    "\n",
    "col = subcort.loc[: , sensmouth_to_sub]\n",
    "subcort['sensmouth_to_sub'] = col.mean(axis=1)\n",
    "\n",
    "col = subcort.loc[: , salience_to_sub]\n",
    "subcort['salience_to_sub'] = col.mean(axis=1)\n",
    "\n",
    "col = subcort.loc[: , VAN_to_sub]\n",
    "subcort['VAN_to_sub'] = col.mean(axis=1)\n",
    "\n",
    "col = subcort.loc[: , visual_to_sub]\n",
    "subcort['visual_to_sub'] = col.mean(axis=1)"
   ]
  },
  {
   "cell_type": "code",
   "execution_count": null,
   "id": "6da759d1-48d4-4bdd-8310-d9f0814cfcd4",
   "metadata": {},
   "outputs": [],
   "source": [
    "subcort.set_index('subjectkey', inplace= True)"
   ]
  },
  {
   "cell_type": "code",
   "execution_count": null,
   "id": "29aa38ea-3402-4b53-a2d3-fb01b7e8c322",
   "metadata": {},
   "outputs": [],
   "source": [
    "subcort.eventname.unique()\n",
    "subcortt1 = subcort.loc[subcort['eventname'] == 'baseline_year_1_arm_1']\n",
    "subcortt2 = subcort.loc[subcort['eventname'] == '2_year_follow_up_y_arm_1']"
   ]
  },
  {
   "cell_type": "code",
   "execution_count": null,
   "id": "c38031f0-31e5-4d2b-8087-518989698d37",
   "metadata": {},
   "outputs": [],
   "source": [
    "source = [\"Auditory\", \"Cingulo-opercular\", \"Cingulo-parietal\", \"DefaultMode\", \"DorsalAttention\", \"Fronto-parietal\", \"Other\", \"RetrosplenialTemporal\", \"SensorimotorHand\", \"SensorimotorMouth\", \"Salience\", \"VentralAttention\", \"Visual\"]\n",
    "subcortdf = pd.DataFrame(source, columns=[\"source\"])\n",
    "subcortdf = subcortdf.assign(target = 'Subcortical')"
   ]
  },
  {
   "cell_type": "code",
   "execution_count": null,
   "id": "901ba6d2-771b-4a9f-a293-562f3b78faa4",
   "metadata": {},
   "outputs": [],
   "source": [
    "#This was created via permutation and put into a csv \n",
    "#essentially a list of source:targets with every combination of network\n",
    "adjacencylist = pd.read_csv('adjacencylist.csv')\n",
    "adjacencylist = adjacencylist.rename(columns={\"Source\": \"source\", \"Target\": \"target\"})"
   ]
  },
  {
   "cell_type": "code",
   "execution_count": null,
   "id": "0570c36d-49d0-4aa5-9a45-24f8ad653b2e",
   "metadata": {},
   "outputs": [],
   "source": [
    "#check relevant columns (of every combination of network strength)\n",
    "validp.iloc[:,203:372]"
   ]
  },
  {
   "cell_type": "code",
   "execution_count": null,
   "id": "bf588e8b-214b-487b-8458-868e097089cb",
   "metadata": {},
   "outputs": [],
   "source": [
    "columnlist = validp.columns.values\n",
    "relevantcolumns = columnlist[203:372]"
   ]
  },
  {
   "cell_type": "markdown",
   "id": "ff830919-fdd8-43ef-9be1-c22efa3217aa",
   "metadata": {},
   "source": [
    "## Timepoint 1 Network Creation"
   ]
  },
  {
   "cell_type": "code",
   "execution_count": null,
   "id": "1d29276a-9e06-4a8f-8830-9819bae156a5",
   "metadata": {},
   "outputs": [],
   "source": [
    "##TIMEPOINT1 \n",
    "\n",
    "counter = 0 \n",
    "#set up area under curve lists \n",
    "areaclist = []\n",
    "areadlist = []\n",
    "areaelist = []\n",
    "areabclist = []\n",
    "subjectkeylist = []\n",
    "\n",
    "#---------------------\n",
    "#BEGINNING OF FOR LOOP ACROSS PARTICIPANTS\n",
    "# for subjectkey, row in validp.iterrows():\n",
    "for subjectkey, row in validp.iterrows():\n",
    "    adjlist2= adjacencylist.copy()\n",
    "    #set up the edge matrix -relevantcolumns is the t1 rsfmri correlations \n",
    "    edgeweights = validp.loc[subjectkey, relevantcolumns].values\n",
    "    adjlist2['weight'] = edgeweights\n",
    "    \n",
    "    #add subcortical measures \n",
    "    a= subcortt1.loc[subcortt1.index == subjectkey, 'aud_to_sub'].item()\n",
    "    b= subcortt1.loc[subcortt1.index == subjectkey, 'cingoper_to_sub'].item()\n",
    "    c= subcortt1.loc[subcortt1.index == subjectkey, 'cingpar_to_sub'].item()\n",
    "    d= subcortt1.loc[subcortt1.index == subjectkey, 'default_to_sub'].item()\n",
    "    e= subcortt1.loc[subcortt1.index == subjectkey, 'DAN_to_sub'].item()\n",
    "    f= subcortt1.loc[subcortt1.index == subjectkey, 'frontopar_to_sub'].item()\n",
    "    g= subcortt1.loc[subcortt1.index == subjectkey, 'other_to_sub'].item()\n",
    "    h= subcortt1.loc[subcortt1.index == subjectkey, 'retrotemp_to_sub'].item()\n",
    "    i= subcortt1.loc[subcortt1.index == subjectkey, 'senshand_to_sub'].item()\n",
    "    j= subcortt1.loc[subcortt1.index == subjectkey, 'sensmouth_to_sub'].item()\n",
    "    k= subcortt1.loc[subcortt1.index == subjectkey, 'salience_to_sub'].item()\n",
    "    l= subcortt1.loc[subcortt1.index == subjectkey, 'VAN_to_sub'].item()\n",
    "    m= subcortt1.loc[subcortt1.index == subjectkey, 'visual_to_sub'].item()\n",
    "    \n",
    "    #Add/update weight measures to the subcortical df \n",
    "    subcortdf['weight'] = [a,b,c,d,e,f,g,h,i,j,k,l,m]\n",
    "#     display(subcortdf)\n",
    "\n",
    "    #Append Subcortical connections to the main edgelist\n",
    "    adjlist2 = adjlist2.append(subcortdf, ignore_index=True)\n",
    "#     display(adjlist2)\n",
    "    \n",
    "    #Create graph \n",
    "    G = nx.from_pandas_edgelist(adjlist2, edge_attr='weight')\n",
    "#     print(nx.average_clustering(G, weight='weight'))\n",
    "    \n",
    "    #Make minimum spanning fully connected graph\n",
    "    Gmin = nx.minimum_spanning_tree(G, ignore_nan=True)\n",
    "#     print(nx.average_clustering(Gmin, weight='weight'))\n",
    "    \n",
    "    #---------------------\n",
    "    #CODE TO VISUALIZE THE NETWORK (fully connected)\n",
    "#     pos=nx.spring_layout(G)\n",
    "#     nx.draw_networkx_nodes(G,pos)\n",
    "\n",
    "#     edges = G.edges()\n",
    "#     print(G.edges())\n",
    "#     print('length of G.edges', len(edges))\n",
    "#     weights = [G[u][v]['weight'] for u,v in edges]\n",
    "\n",
    "#     nx.draw(G, pos, edges=edges, width=10*weights, opacity=10*weights)\n",
    "#     #\n",
    "#     nx.draw_networkx_labels(G,pos)#,font_size=20,font_family='sans-serif')\n",
    "#     #\n",
    "#     plt.axis('off')\n",
    "#     plt.show()\n",
    "    #---------------------\n",
    "      \n",
    "    #---------------------\n",
    "#   #CODE TO VISUALIZE THE NETWORK (minimum spanning)\n",
    "#     pos=nx.spring_layout(Gmin)\n",
    "#     nx.draw_networkx_nodes(Gmin,pos)\n",
    "\n",
    "#     edges = Gmin.edges()\n",
    "#     weights = [Gmin[u][v]['weight'] for u,v in edges]\n",
    "\n",
    "#     nx.draw(Gmin, pos, edges=edges, width=100*weights, opacity=20*weights)\n",
    "#     #\n",
    "#     nx.draw_networkx_labels(G,pos)#,font_size=20,font_family='sans-serif')\n",
    "#     #\n",
    "#     plt.axis('off')\n",
    "#     plt.show()\n",
    "    #---------------------\n",
    "    ##CODE FOR SPARSITY \n",
    "    \n",
    "    #sort edges by weight and catch any missing data\n",
    "    sortededges= adjlist2.sort_values(by='weight', ascending=False)\n",
    "    if sum(sortededges.weight.isna()) > 0:\n",
    "        print('skipped participant due to nans')\n",
    "        continue\n",
    "    \n",
    "    #for loop for different sparsity assumptions\n",
    "    sparselist = np.linspace(0.01,.4, 40)\n",
    "    c=[]\n",
    "    d=[]\n",
    "    e=[]\n",
    "    bc=[]\n",
    "    for elem in sparselist: \n",
    "        num_edges = round(elem*len(sortededges)).astype(np.int)\n",
    "        Gmin.add_weighted_edges_from(list(sortededges[0:num_edges].itertuples(index=False, name=None)))\n",
    "        c.append(nx.average_clustering(Gmin))\n",
    "        d.append(max(Gmin.degree)[1])\n",
    "        e.append(nx.global_efficiency(Gmin))\n",
    "        bc.append(max(nx.betweenness_centrality(Gmin).values()))\n",
    "        \n",
    "\n",
    "    # Compute the area using the composite trapezoidal rule.\n",
    "    areac = trapz(c, dx=.01)\n",
    "    aread = trapz(d, dx=.01)\n",
    "    areae = trapz(e, dx=.01)\n",
    "    areabc = trapz(bc, dx=.01)\n",
    "#     print(y)\n",
    "#     print(\"area =\", area)\n",
    "    \n",
    "    #----------------------\n",
    "\n",
    "    #---------------------    \n",
    "    #FILLED LINE GRAPH OF AUC - clustering \n",
    "#     x=sparselist\n",
    "#     # Area plot\n",
    "#     plt.fill_between(x, y)\n",
    "#     plt.title('Clustering coefficient under differing sparsity constraints')\n",
    "#     plt.ylabel('clustering coefficient')\n",
    "#     plt.xlabel('sparsity')\n",
    "#     plt.show()\n",
    "\n",
    "    #---------------------\n",
    "    #Draw Gmin for .40 sparsity\n",
    "#     from itertools import chain\n",
    "\n",
    "#     colors = list(chain.from_iterable(d.values() for *_, d in Gmin.edges(data=True)))\n",
    "#     pos=nx.spring_layout(Gmin)cc\n",
    "#     nx.draw(Gmin,pos=pos, edge_cmap=plt.get_cmap('Blues'), edge_color = colors, node_color=\"#A0CBE2\", with_labels=True, font_color='black', opacity = 20*np.abs(colors), width=1 +np.abs(colors))\n",
    "#     plt.show()\n",
    "#     ---------------------\n",
    "\n",
    "    #append area values to lists\n",
    "    subjectkeylist.append(subjectkey)\n",
    "    areaclist.append(areac)\n",
    "    areadlist.append(aread)\n",
    "    areaelist.append(areae)\n",
    "    areabclist.append(areabc)\n",
    "    #This is a crude way of capturing participants and visualising participants who have NaNs in their networks \n",
    "#     if areac > 0.225:\n",
    "#         colors = list(chain.from_iterable(d.values() for *_, d in Gmin.edges(data=True)))\n",
    "#         nx.draw(Gmin,pos=pos, edge_cmap=plt.get_cmap('Blues'), edge_color = colors, node_color=\"#A0CBE2\", with_labels=True, font_color='black', opacity = 20*np.abs(colors), width=1 +np.abs(colors))\n",
    "#         plt.show()\n",
    "#         print(subjectkey)\n",
    "#         display(sortededges)\n",
    "#         display(adjlist2)\n",
    "    \n",
    "    #---------------------\n",
    "    #LIMIT/REPORT QUANTITY\n",
    "    counter = counter + 1\n",
    "#     Debug mode\n",
    "#     if counter ==1500:\n",
    "#         break\n",
    "    if counter % 500 == 0:\n",
    "        print(counter,' analyzed')\n",
    "\n",
    "auct1 = pd.DataFrame(\n",
    "    {'subjectkey':subjectkeylist,\n",
    "     'clusteringt1': areaclist,\n",
    "     'maxdegreet1': areadlist,\n",
    "     'efficiencyt1': areaelist,\n",
    "     'betweencentralityt1' : areabclist\n",
    "    })\n",
    "auct1"
   ]
  },
  {
   "cell_type": "markdown",
   "id": "009fd6a2-5bec-458b-9dd2-46dff0adea7c",
   "metadata": {},
   "source": [
    "## Timepoint 2 Network Creation"
   ]
  },
  {
   "cell_type": "code",
   "execution_count": null,
   "id": "06172533-4528-4ced-874b-db1da0568704",
   "metadata": {},
   "outputs": [],
   "source": [
    "#Check columns for timepoint2\n",
    "validp.iloc[:,395:564]"
   ]
  },
  {
   "cell_type": "code",
   "execution_count": null,
   "id": "7312204f-5554-4c7b-95fd-11d04fef60d6",
   "metadata": {},
   "outputs": [],
   "source": [
    "relevantcolumns = columnlist[395:564]\n",
    "validp[relevantcolumns]"
   ]
  },
  {
   "cell_type": "code",
   "execution_count": null,
   "id": "2074554d-136c-4a88-b661-f390b65d01ed",
   "metadata": {},
   "outputs": [],
   "source": [
    "##TIMEPOINT 2\n",
    "\n",
    "counter = 0 \n",
    "#set up area under curve lists \n",
    "areaclist = []\n",
    "areadlist = []\n",
    "areaelist = []\n",
    "areabclist = []\n",
    "subjectkeylist = []\n",
    "\n",
    "#---------------------\n",
    "#BEGINNING OF FOR LOOP ACROSS PARTICIPANTS\n",
    "for subjectkey, row in validp.iterrows():\n",
    "    adjlist2= adjacencylist.copy()\n",
    "    #set up the edge matrix -relevantcolumns is the t2 rsfmri correlations\n",
    "    relevantcolumns = columnlist[395:564]\n",
    "    edgeweights = validp.loc[subjectkey, relevantcolumns].values\n",
    "    adjlist2['weight'] = edgeweights\n",
    "    \n",
    "    #add subcortical measures \n",
    "    a= subcortt2.loc[subcortt2.index == subjectkey, 'aud_to_sub'].item()\n",
    "    b= subcortt2.loc[subcortt2.index == subjectkey, 'cingoper_to_sub'].item()\n",
    "    c= subcortt2.loc[subcortt2.index == subjectkey, 'cingpar_to_sub'].item()\n",
    "    d= subcortt2.loc[subcortt2.index == subjectkey, 'default_to_sub'].item()\n",
    "    e= subcortt2.loc[subcortt2.index == subjectkey, 'DAN_to_sub'].item()\n",
    "    f= subcortt2.loc[subcortt2.index == subjectkey, 'frontopar_to_sub'].item()\n",
    "    g= subcortt2.loc[subcortt2.index == subjectkey, 'other_to_sub'].item()\n",
    "    h= subcortt2.loc[subcortt2.index == subjectkey, 'retrotemp_to_sub'].item()\n",
    "    i= subcortt2.loc[subcortt2.index == subjectkey, 'senshand_to_sub'].item()\n",
    "    j= subcortt2.loc[subcortt2.index == subjectkey, 'sensmouth_to_sub'].item()\n",
    "    k= subcortt2.loc[subcortt2.index == subjectkey, 'salience_to_sub'].item()\n",
    "    l= subcortt2.loc[subcortt2.index == subjectkey, 'VAN_to_sub'].item()\n",
    "    m= subcortt2.loc[subcortt2.index == subjectkey, 'visual_to_sub'].item()\n",
    "    \n",
    "    #Add/update weight measures to the subcortical df \n",
    "    subcortdf['weight'] = [a,b,c,d,e,f,g,h,i,j,k,l,m]\n",
    "#     display(subcortdf)\n",
    "\n",
    "    #Append Subcortical connections to the main edgelist\n",
    "    adjlist2 = adjlist2.append(subcortdf, ignore_index=True)\n",
    "#     display(adjlist2)\n",
    "    \n",
    "    #Create graph \n",
    "    G = nx.from_pandas_edgelist(adjlist2, edge_attr='weight')\n",
    "#     print(nx.average_clustering(G, weight='weight'))\n",
    "    \n",
    "    #Make minimum spanning fully connected graph\n",
    "    Gmin = nx.minimum_spanning_tree(G, ignore_nan=True)\n",
    "#     print(nx.average_clustering(Gmin, weight='weight'))\n",
    "    \n",
    "    #---------------------\n",
    "    #CODE TO VISUALIZE THE NETWORK (fully connected)\n",
    "#     pos=nx.spring_layout(G)\n",
    "#     nx.draw_networkx_nodes(G,pos)\n",
    "\n",
    "#     edges = G.edges()\n",
    "#     print(G.edges())\n",
    "#     print('length of G.edges', len(edges))\n",
    "#     weights = [G[u][v]['weight'] for u,v in edges]\n",
    "\n",
    "#     nx.draw(G, pos, edges=edges, width=10*weights, opacity=10*weights)\n",
    "#     #\n",
    "#     nx.draw_networkx_labels(G,pos)#,font_size=20,font_family='sans-serif')\n",
    "#     #\n",
    "#     plt.axis('off')\n",
    "#     plt.show()\n",
    "    #---------------------\n",
    "      \n",
    "    #---------------------\n",
    "#   #CODE TO VISUALIZE THE NETWORK (minimum spanning)\n",
    "#     pos=nx.spring_layout(Gmin)\n",
    "#     nx.draw_networkx_nodes(Gmin,pos)\n",
    "\n",
    "#     edges = Gmin.edges()\n",
    "#     weights = [Gmin[u][v]['weight'] for u,v in edges]\n",
    "\n",
    "#     nx.draw(Gmin, pos, edges=edges, width=100*weights, opacity=20*weights)\n",
    "#     #\n",
    "#     nx.draw_networkx_labels(G,pos)#,font_size=20,font_family='sans-serif')\n",
    "#     #\n",
    "#     plt.axis('off')\n",
    "#     plt.show()\n",
    "    #---------------------\n",
    "    ##CODE FOR SPARSITY \n",
    "    \n",
    "    #sort edges by weight and catch nans\n",
    "    sortededges= adjlist2.sort_values(by='weight', ascending=False)\n",
    "    if sum(sortededges.weight.isna()) > 0:\n",
    "        print('skipped participant due to nans')\n",
    "        continue\n",
    "    \n",
    "    #for loop for different sparsity assumptions\n",
    "    sparselist = np.linspace(0.01,.4, 40)\n",
    "    c=[]\n",
    "    d=[]\n",
    "    e=[]\n",
    "    bc=[]\n",
    "    for elem in sparselist: \n",
    "        num_edges = round(elem*len(sortededges)).astype(np.int)\n",
    "        Gmin.add_weighted_edges_from(list(sortededges[0:num_edges].itertuples(index=False, name=None)))\n",
    "        c.append(nx.average_clustering(Gmin))\n",
    "        d.append(max(Gmin.degree)[1])\n",
    "        e.append(nx.global_efficiency(Gmin))\n",
    "        bc.append(max(nx.betweenness_centrality(Gmin).values()))\n",
    "        \n",
    "\n",
    "    # Compute the area using the composite trapezoidal rule.\n",
    "    areac = trapz(c, dx=.01)\n",
    "    aread = trapz(d, dx=.01)\n",
    "    areae = trapz(e, dx=.01)\n",
    "    areabc = trapz(bc, dx=.01)\n",
    "    \n",
    "    subjectkeylist.append(subjectkey)\n",
    "    areaclist.append(areac)\n",
    "    areadlist.append(aread)\n",
    "    areaelist.append(areae)\n",
    "    areabclist.append(areabc)\n",
    "#     print(y)\n",
    "#     print(\"area =\", area)\n",
    "    \n",
    "    #----------------------\n",
    "\n",
    "    #---------------------    \n",
    "#     FILLED LINE GRAPH OF AUC \n",
    "#     x=sparselist\n",
    "#     # Area plot\n",
    "#     plt.fill_between(x, y)\n",
    "#     plt.title('Clustering coefficient under differing sparsity constraints')\n",
    "#     plt.ylabel('clustering coefficient')\n",
    "#     plt.xlabel('sparsity')\n",
    "#     plt.show()\n",
    "    #---------------------\n",
    "#     Draw Gmin for .40 sparsity\n",
    "#     from itertools import chain\n",
    "\n",
    "#     colors = list(chain.from_iterable(d.values() for *_, d in Gmin.edges(data=True)))\n",
    "#     pos=nx.spring_layout(Gmin)\n",
    "#     nx.draw(Gmin,pos=pos, edge_cmap=plt.get_cmap('Blues'), edge_color = colors, node_color=\"#A0CBE2\", with_labels=True, font_color='black', opacity = 20*np.abs(colors), width=1 +np.abs(colors))\n",
    "#     plt.show()\n",
    "#     #---------------------\n",
    "    \n",
    "    #---------------------\n",
    "    #LIMIT/REPORT QUANTITY\n",
    "    counter = counter + 1\n",
    "#     if counter ==8:\n",
    "#         break\n",
    "    if counter % 500 == 0:\n",
    "        print(counter,' analyzed')\n",
    "        time.sleep(1)\n",
    "\n",
    "auct2 = pd.DataFrame(\n",
    "    {'subjectkey': subjectkeylist,\n",
    "     'clusteringt2': areaclist,\n",
    "     'maxdegreet2': areadlist,\n",
    "     'efficiencyt2': areaelist,\n",
    "     'betweencentralityt2' : areabclist\n",
    "    })\n",
    "auct2"
   ]
  },
  {
   "cell_type": "markdown",
   "id": "d4eab81c-b0fd-4c79-8308-4031db74fa1e",
   "metadata": {},
   "source": [
    "## Create Network Area Under Curve Dataframe"
   ]
  },
  {
   "cell_type": "code",
   "execution_count": null,
   "id": "de98bbc2-f07e-4a35-ad68-c2f0df78c010",
   "metadata": {},
   "outputs": [],
   "source": [
    "auct1 = auct1.set_index('subjectkey')\n",
    "auct2 = auct2.set_index('subjectkey')"
   ]
  },
  {
   "cell_type": "code",
   "execution_count": null,
   "id": "40013b30-63fb-46af-b217-637414adf624",
   "metadata": {},
   "outputs": [],
   "source": [
    "mergetest = auct1.copy()\n",
    "print(len(mergetest))\n",
    "mergetest = mergetest.merge(auct2,left_index=True, right_index=True, how='inner')"
   ]
  },
  {
   "cell_type": "code",
   "execution_count": null,
   "id": "9e7dec59-2205-4fc1-adf6-88b4edae2f13",
   "metadata": {},
   "outputs": [],
   "source": [
    "mergetest['clustdiff'] = mergetest['clusteringt2'] - mergetest['clusteringt1']\n",
    "mergetest['degdiff'] = mergetest['maxdegreet2'] - mergetest['maxdegreet1']\n",
    "mergetest['effdiff'] = mergetest['efficiencyt2'] - mergetest['efficiencyt1']\n",
    "mergetest['bcdiff'] = mergetest['betweencentralityt2'] - mergetest['betweencentralityt1']"
   ]
  },
  {
   "cell_type": "code",
   "execution_count": null,
   "id": "68b2e2a8-7f77-43d8-9440-7ee060f4ace9",
   "metadata": {},
   "outputs": [],
   "source": [
    "finaldf = validp.merge(mergetest,left_index=True, right_index=True, how='inner')"
   ]
  },
  {
   "cell_type": "markdown",
   "id": "e4183569-eb13-467e-80e6-2a5980bba230",
   "metadata": {},
   "source": [
    "## Calculate Change Over Time"
   ]
  },
  {
   "cell_type": "code",
   "execution_count": null,
   "id": "9af5cc12-0836-49ee-8307-6e3ad33ce5bd",
   "metadata": {},
   "outputs": [],
   "source": [
    "finaldf['lnclustdiff'] = np.log(finaldf['clusteringt2']) - np.log(finaldf['clusteringt1'])"
   ]
  },
  {
   "cell_type": "code",
   "execution_count": null,
   "id": "4f15307e-f378-48d3-a351-651baf73beb3",
   "metadata": {},
   "outputs": [],
   "source": [
    "finaldf['lndegdiff'] = np.log(finaldf['maxdegreet2']) - np.log(finaldf['maxdegreet1'])"
   ]
  },
  {
   "cell_type": "code",
   "execution_count": null,
   "id": "7d9630aa-75a3-470f-9a4a-4756ccd06431",
   "metadata": {},
   "outputs": [],
   "source": [
    "finaldf['lneffdiff'] = np.log(finaldf['efficiencyt2']) - np.log(finaldf['efficiencyt1'])"
   ]
  },
  {
   "cell_type": "code",
   "execution_count": null,
   "id": "d14caa88-9e1c-442c-ad18-7be9f3d7a47b",
   "metadata": {},
   "outputs": [],
   "source": [
    "finaldf['lneffdiff'] = np.log(finaldf['efficiencyt2']) - np.log(finaldf['efficiencyt1'])\n",
    "finaldf['lnbcdiff'] = np.log(finaldf['betweencentralityt2']) - np.log(finaldf['betweencentralityt1'])"
   ]
  },
  {
   "cell_type": "markdown",
   "id": "3777e02f-9c46-41ec-9a69-c2b0cbde8665",
   "metadata": {},
   "source": [
    "## Model Building"
   ]
  },
  {
   "cell_type": "code",
   "execution_count": null,
   "id": "53a357e9-b2e6-4d5c-96c3-f9ef55594361",
   "metadata": {},
   "outputs": [],
   "source": [
    "finaldf['agezscore'] = stats.zscore(finaldf['interview_age.t0'])"
   ]
  },
  {
   "cell_type": "code",
   "execution_count": null,
   "id": "23efc5b5-7ea2-4821-82d3-4c492a50d8bb",
   "metadata": {},
   "outputs": [],
   "source": [
    "finaldf['ST0'] = finaldf['ST.t0']\n",
    "finaldf['STsqrt'] = np.sqrt(finaldf['ST0'])\n",
    "finaldf['STsqrtz'] = stats.zscore(finaldf['STsqrt'])"
   ]
  },
  {
   "cell_type": "code",
   "execution_count": null,
   "id": "9fb3bb69-871e-426e-ae58-6e81ead2edfe",
   "metadata": {},
   "outputs": [],
   "source": [
    "finaldf = finaldf.merge(demodf, left_index=True, right_index=True, how='left')"
   ]
  },
  {
   "cell_type": "code",
   "execution_count": null,
   "id": "228fb10b-b25b-4ae9-8dad-44b5000c1fcd",
   "metadata": {},
   "outputs": [],
   "source": [
    "#SMF formulas don't like periods in the names of variables so we need to rename \n",
    "finaldf.rename(columns={'sex.t0':'sex0'}, inplace=True)"
   ]
  },
  {
   "cell_type": "code",
   "execution_count": null,
   "id": "c7346a3b-2fbe-41cb-be45-ceb35ba2eb78",
   "metadata": {},
   "outputs": [],
   "source": [
    "#recode to fit with smf \n",
    "finaldf['inc1'] = finaldf['<$25k']\n",
    "finaldf['inc4'] = finaldf['>$100k']\n",
    "finaldf['inc2']= finaldf['$25-50k']\n",
    "finaldf['inc3'] = finaldf['$50-100k']"
   ]
  },
  {
   "cell_type": "code",
   "execution_count": null,
   "id": "1c6483a9-51fd-4c9c-96b4-6b8544278054",
   "metadata": {},
   "outputs": [],
   "source": [
    "#drop the duplicate 'sex' columns\n",
    "finaldf = finaldf.loc[:,~finaldf.columns.duplicated()]"
   ]
  },
  {
   "cell_type": "code",
   "execution_count": null,
   "id": "7edfe18f-76a8-4018-8424-9fb304312337",
   "metadata": {},
   "outputs": [],
   "source": [
    "#standardize to z-scores to output standardized coefficients\n",
    "columns_to_standardize = ['lnclustdiff', 'lnbcdiff', 'lndegdiff', 'lneffdiff']\n",
    "for column in columns_to_standardize: \n",
    "    titlecol = column+'z'\n",
    "    finaldf[titlecol] = stats.zscore(finaldf[column])"
   ]
  },
  {
   "cell_type": "markdown",
   "id": "e10c3fb2-801f-481e-8ec6-cbce3aa65a06",
   "metadata": {},
   "source": [
    "## Time point comparisons - do these networks become more modular over time?"
   ]
  },
  {
   "cell_type": "markdown",
   "id": "bb1cf399-b0d2-4d3d-b937-381aca38198a",
   "metadata": {},
   "source": [
    "### Plots of AUC statistics"
   ]
  },
  {
   "cell_type": "code",
   "execution_count": null,
   "id": "0d7a0f25-cc81-451c-9e63-3abbb70e5667",
   "metadata": {},
   "outputs": [],
   "source": [
    "matplotlib.style.use('fivethirtyeight')\n"
   ]
  },
  {
   "cell_type": "code",
   "execution_count": null,
   "id": "3c39f084-b00e-4a6d-9888-69a42dc4ef86",
   "metadata": {},
   "outputs": [],
   "source": [
    "fig, ax = plt.subplots()\n",
    "ax.xlim=(0.1, 0.25)\n",
    "ax.ylim=(0.1, 0.25)\n",
    "ax.set_xticks([.1, .12, .14, .16, .18, .20, .22, .24])\n",
    "ax.set_yticks([.1, .12, .14, .16, .18, .20, .22, .24])\n",
    "sns.regplot(x= 'betweencentralityt1', y= 'betweencentralityt2', scatter_kws={\"color\": \"#f16546\", 'alpha':0.10}, line_kws={\"color\": \"k\", \"alpha\":0.4, 'lw': 3}, data=finaldf)\n",
    "plt.xlabel('AUC Between Centrality at Timepoint 1', fontsize=12)\n",
    "plt.xticks(fontsize=10)\n",
    "plt.ylabel('AUC Between Centrality at Timepoint 2', fontsize=12)\n",
    "plt.yticks(fontsize=10)\n",
    "plt.axis('square')\n",
    "ax.xaxis.label.set_size(12)\n",
    "plt.tight_layout()\n",
    "plt.savefig(\"BCscatter.pdf\")\n",
    "plt.show()"
   ]
  },
  {
   "cell_type": "code",
   "execution_count": null,
   "id": "aeb07d2f-7455-4b98-89c9-d3dd237e01c8",
   "metadata": {},
   "outputs": [],
   "source": [
    "fig, ax = plt.subplots()\n",
    "sns.regplot(x= 'maxdegreet1', y= 'maxdegreet2', scatter_kws={\"color\": \"#f16546\", 'alpha':0.10}, line_kws={\"color\": \"k\", \"alpha\":0.4, 'lw': 3}, data=finaldf)\n",
    "ax.set_xticks(range(1,6))\n",
    "ax.set_yticks(range(1,6))\n",
    "plt.xlabel('AUC Max Degree at Timepoint 1', fontsize=12)\n",
    "plt.xticks(fontsize=10)\n",
    "plt.ylabel('AUC Max Degree at Timepoint 2', fontsize=12)\n",
    "plt.yticks(fontsize=10)\n",
    "plt.axis('square')\n",
    "plt.tight_layout()\n",
    "plt.savefig(\"maxdegreescatter.pdf\")\n",
    "plt.show()"
   ]
  },
  {
   "cell_type": "code",
   "execution_count": null,
   "id": "87cda488-384f-4c8b-949e-9e8076d761b3",
   "metadata": {},
   "outputs": [],
   "source": [
    "fig, ax = plt.subplots()\n",
    "sns.regplot(x= 'efficiencyt1', y= 'efficiencyt2', scatter_kws={\"color\": \"#f16546\", 'alpha':0.10}, line_kws={\"color\": \"k\", \"alpha\":0.4, 'lw': 3}, data=finaldf)\n",
    "ax.set_xticks([.22, .23, .24, .25])\n",
    "ax.set_yticks([.22, .23, .24, .25])\n",
    "plt.xlabel('AUC Efficiency at Timepoint 1', fontsize=12)\n",
    "plt.xticks(fontsize=10)\n",
    "plt.ylabel('AUC Efficiency at Timepoint 2', fontsize=12)\n",
    "plt.yticks(fontsize=10)\n",
    "plt.axis('square')\n",
    "plt.tight_layout()\n",
    "plt.savefig(\"efficiencyscatter.pdf\")\n",
    "plt.show()"
   ]
  },
  {
   "cell_type": "code",
   "execution_count": null,
   "id": "18cd8ec2-d618-4100-8ec5-28ba5094482a",
   "metadata": {},
   "outputs": [],
   "source": [
    "fig, ax = plt.subplots()\n",
    "sns.regplot(x= 'clusteringt1', y= 'clusteringt2', scatter_kws={\"color\": \"#f16546\", 'alpha':0.15}, line_kws={\"color\": \"k\", \"alpha\":0.4, 'lw': 3}, data=finaldf)\n",
    "ax.set_xticks([.1, .125, .15, .175, .2, .225])\n",
    "ax.set_yticks([.1, .125, .15, .175, .2, .225])\n",
    "plt.xlabel('AUC Clustering at Timepoint 1', fontsize=12)\n",
    "plt.xticks(fontsize=10)\n",
    "plt.ylabel('AUC Clustering at Timepoint 2', fontsize=12)\n",
    "plt.yticks(fontsize=10)\n",
    "plt.axis('square')\n",
    "plt.tight_layout()\n",
    "plt.savefig(\"clusterscatter.pdf\")\n",
    "plt.show()"
   ]
  },
  {
   "cell_type": "markdown",
   "id": "874367c2-601a-43a5-98ce-03982f9d5c72",
   "metadata": {},
   "source": [
    "## Perform multiple linear regressions"
   ]
  },
  {
   "cell_type": "code",
   "execution_count": null,
   "id": "2770f78e-946a-4c89-882c-151c83f86b67",
   "metadata": {},
   "outputs": [],
   "source": [
    "#4 respondents did not give an answer to the Latinx ethnicity question\n",
    "print(finaldf.Latinx.isnull().sum())\n",
    "finaldf.Latinx = finaldf.Latinx.fillna(value=0)"
   ]
  },
  {
   "cell_type": "markdown",
   "id": "04f91126-e894-4980-9608-7440949d33f8",
   "metadata": {},
   "source": [
    "### Clustering"
   ]
  },
  {
   "cell_type": "code",
   "execution_count": null,
   "id": "3d551548-2345-433e-9b51-2b093b377872",
   "metadata": {},
   "outputs": [],
   "source": [
    "formula = 'lnclustdiffz ~ STsqrtz + C(White) +C(Latinx) +C(Black) + C(Asian) + agezscore + C(sex) + +C(inc1) + C(inc2) +C(inc3) +C(inc4)'\n",
    "model = smf.ols(formula = formula,data=finaldf, missing='drop')\n",
    "model = model.fit()\n",
    "model.summary()"
   ]
  },
  {
   "cell_type": "code",
   "execution_count": null,
   "id": "b7202c72-664d-4a72-80d9-3b964fdb2bad",
   "metadata": {},
   "outputs": [],
   "source": [
    "model.conf_int(alpha=0.0125)"
   ]
  },
  {
   "cell_type": "markdown",
   "id": "45a63a8e-981d-49f3-99a1-bf88573a00b2",
   "metadata": {},
   "source": [
    "### Max Degree"
   ]
  },
  {
   "cell_type": "code",
   "execution_count": null,
   "id": "df728408-2b88-430d-9bd7-487c6321f060",
   "metadata": {},
   "outputs": [],
   "source": [
    "sns.regplot(data = finaldf, x = 'STsqrt', y='lndegdiff', scatter_kws={\"color\": \"#ffca65\", 'alpha':0.25}, line_kws={\"color\": \"#f16546\", \"alpha\":0.8, 'lw': 3}) \n",
    "plt.savefig('lnmaxdegvsst.pdf')\n",
    "plt.show()"
   ]
  },
  {
   "cell_type": "code",
   "execution_count": null,
   "id": "b2f35936-d5e1-4ac2-a45e-e7552f112707",
   "metadata": {},
   "outputs": [],
   "source": [
    "formula = 'lndegdiffz ~ STsqrtz + C(White) +C(Latinx) +C(Black) + C(Asian) + agezscore + C(sex) + +C(inc1) + C(inc2) +C(inc3) +C(inc4)'\n",
    "model = smf.ols(formula = formula,data=finaldf)\n",
    "model = model.fit()\n",
    "model.summary()"
   ]
  },
  {
   "cell_type": "code",
   "execution_count": null,
   "id": "0b2037d6-4de0-4c86-bc0c-cbb25bf9b2c3",
   "metadata": {},
   "outputs": [],
   "source": [
    "model.conf_int(alpha=0.0125)"
   ]
  },
  {
   "cell_type": "markdown",
   "id": "f1f111f3-c197-4589-8225-78bec2619d52",
   "metadata": {},
   "source": [
    "### Efficiency"
   ]
  },
  {
   "cell_type": "code",
   "execution_count": null,
   "id": "1ac4a875-6fdf-4dbd-95d4-e20d9ee15624",
   "metadata": {},
   "outputs": [],
   "source": [
    "sns.regplot(data = finaldf, x = 'STsqrt', y='lneffdiff', scatter_kws={\"color\": \"#ffca65\", 'alpha':0.25}, line_kws={\"color\": \"#f16546\", \"alpha\":0.8, 'lw': 3}) \n",
    "plt.savefig('lneffdiffvsst.pdf')\n",
    "plt.show()"
   ]
  },
  {
   "cell_type": "code",
   "execution_count": null,
   "id": "a644fcbc-7886-4a6b-b5c4-e408f3f54d17",
   "metadata": {},
   "outputs": [],
   "source": [
    "formula = 'lneffdiffz ~ STsqrtz + C(White) +C(Latinx) +C(Black) + C(Asian) + agezscore + C(sex) + +C(inc1) + C(inc2) +C(inc3) +C(inc4)'\n",
    "model = smf.ols(formula = formula,data=finaldf)\n",
    "model = model.fit()\n",
    "model.summary()"
   ]
  },
  {
   "cell_type": "code",
   "execution_count": null,
   "id": "3e056d8c-9507-469d-a428-66af96d69efb",
   "metadata": {},
   "outputs": [],
   "source": [
    "model.conf_int(alpha=0.0125)"
   ]
  },
  {
   "cell_type": "markdown",
   "id": "c6e73647-c444-42fd-bf9f-e774f2c230aa",
   "metadata": {},
   "source": [
    "### Between Centrality"
   ]
  },
  {
   "cell_type": "code",
   "execution_count": null,
   "id": "49e45f4d-b37f-4cc7-88d5-53e93cb27d37",
   "metadata": {},
   "outputs": [],
   "source": [
    "sns.regplot(data = finaldf, x = 'STsqrt', y='lnbcdiff', scatter_kws={\"color\": \"#ffca65\", 'alpha':0.25}, line_kws={\"color\": \"#f16546\", \"alpha\":0.8, 'lw': 3}) \n",
    "plt.savefig('lnbcdiffvsst.pdf')\n",
    "plt.show()"
   ]
  },
  {
   "cell_type": "code",
   "execution_count": null,
   "id": "b6ec5767-4f41-4085-98c2-d00d56afa663",
   "metadata": {},
   "outputs": [],
   "source": [
    "formula = 'lnbcdiffz ~ STsqrtz + C(White) +C(Latinx) +C(Black) + C(Asian) + agezscore + C(sex) + +C(inc1) + C(inc2) +C(inc3) +C(inc4)'\n",
    "model = smf.ols(formula = formula,data=finaldf)\n",
    "model = model.fit()\n",
    "model.summary()"
   ]
  },
  {
   "cell_type": "code",
   "execution_count": null,
   "id": "c999425a-ed2c-4e85-b18d-c3b8f3937834",
   "metadata": {},
   "outputs": [],
   "source": [
    "model.conf_int(alpha=0.0125)"
   ]
  },
  {
   "cell_type": "markdown",
   "id": "cb5ecd6d-f220-4d69-a1fb-f79db6a7fe73",
   "metadata": {},
   "source": [
    "## Screen Time Correction Plots"
   ]
  },
  {
   "cell_type": "code",
   "execution_count": null,
   "id": "4f26ee6a-c904-4f1b-8e18-8164c8937925",
   "metadata": {},
   "outputs": [],
   "source": [
    "fig, ax = plt.subplots()\n",
    "plt.hist(finaldf.ST0, bins=20, color ='#ffca65')\n",
    "plt.xlabel('Weekly Hours of Screentime', fontsize=12)\n",
    "plt.grid(color='lightgray')\n",
    "plt.savefig(\"Screentimedistributionincl.pdf\")"
   ]
  },
  {
   "cell_type": "code",
   "execution_count": null,
   "id": "e5cc1056-d1ae-4929-acb4-990165e67f49",
   "metadata": {},
   "outputs": [],
   "source": [
    "fig, ax = plt.subplots()\n",
    "plt.hist(finaldf.STsqrt, bins=20, color ='#ffca65')\n",
    "plt.xlabel('Weekly Hours of Screentime', fontsize=12)\n",
    "plt.grid(color='lightgray')\n",
    "plt.savefig(\"sqrtScreentimedistributionincl.pdf\")"
   ]
  },
  {
   "cell_type": "markdown",
   "id": "93f71d61-8e32-44fd-8c64-4e1d463931fc",
   "metadata": {},
   "source": [
    "## KDE plots"
   ]
  },
  {
   "cell_type": "code",
   "execution_count": null,
   "id": "128fcc8e-4340-421d-ab80-1068986d483a",
   "metadata": {},
   "outputs": [],
   "source": [
    "sns.set(rc={'axes.facecolor':'white', 'figure.facecolor':'white'})\n",
    "sns.kdeplot(x=finaldf['STsqrtz'], y=finaldf['lnclustdiffz'], cmap=\"Reds\", shade =True, bw_adjust=.5, cbar=True)\n",
    "plt.grid(color='lightgray', linestyle='-', linewidth=2)\n",
    "plt.tight_layout()\n",
    "plt.savefig('clusterstkde.pdf')\n",
    "plt.show()"
   ]
  },
  {
   "cell_type": "code",
   "execution_count": null,
   "id": "0d7d3107-e54c-4665-991e-717112ef7878",
   "metadata": {},
   "outputs": [],
   "source": [
    "sns.set(rc={'axes.facecolor':'white', 'figure.facecolor':'white'})\n",
    "sns.kdeplot(x=finaldf['STsqrtz'], y=finaldf['lndegdiffz'], cmap=\"Reds\", shade =True, bw_adjust=.5, cbar=True)\n",
    "plt.grid(color='lightgray', linestyle='-', linewidth=2)\n",
    "plt.tight_layout()\n",
    "plt.savefig('maxdegkde.pdf')\n",
    "plt.show()"
   ]
  },
  {
   "cell_type": "code",
   "execution_count": null,
   "id": "c38258ce-4c22-48d4-8877-889a6886b0d5",
   "metadata": {},
   "outputs": [],
   "source": [
    "sns.set(rc={'axes.facecolor':'white', 'figure.facecolor':'white'})\n",
    "sns.kdeplot(x=finaldf['STsqrtz'], y=finaldf['lneffdiffz'], cmap=\"Reds\", shade =True, bw_adjust=.5, cbar=True)\n",
    "plt.grid(color='lightgray', linestyle='-', linewidth=2)\n",
    "plt.tight_layout()\n",
    "plt.savefig('effkde.pdf')\n",
    "plt.show()"
   ]
  },
  {
   "cell_type": "code",
   "execution_count": null,
   "id": "d37e3c79-938e-49aa-abdd-9f6792f943e2",
   "metadata": {},
   "outputs": [],
   "source": [
    "sns.set(rc={'axes.facecolor':'white', 'figure.facecolor':'white'})\n",
    "sns.kdeplot(x=finaldf['STsqrtz'], y=finaldf['lnbcdiffz'], cmap=\"Reds\", shade =True, bw_adjust=.5, cbar=True)\n",
    "plt.grid(color='lightgray', linestyle='-', linewidth=2)\n",
    "plt.tight_layout()\n",
    "plt.savefig('bckde.pdf')\n",
    "plt.show()"
   ]
  },
  {
   "cell_type": "markdown",
   "id": "d9454851-228e-41b8-addf-50617ef9cea8",
   "metadata": {},
   "source": [
    "## Network Figure Production"
   ]
  },
  {
   "cell_type": "code",
   "execution_count": null,
   "id": "e32a68c6-7e6d-47b8-bdc5-9ff17533eea9",
   "metadata": {},
   "outputs": [],
   "source": [
    "labeldict = {'Auditory': 'Aud', 'Cingulo-opercular': 'Cing-oper',\n",
    " 'Cingulo-parietal': 'Cing-par', 'DefaultMode': 'DMN',\n",
    " 'DorsalAttention': 'DAN', 'Fronto-parietal': 'Fronto-par',\n",
    " 'Other' : 'Other', 'RetrosplenialTemporal': 'Retrospl-Temp',\n",
    " 'SensorimotorHand':'SRM Hand', 'SensorimotorMouth': 'SRM Mouth',\n",
    " 'Salience': 'Salience', 'VentralAttention': 'VAN',\n",
    " 'Visual': 'Visual', 'Subcortical': 'Subcort'\n",
    "}"
   ]
  },
  {
   "cell_type": "code",
   "execution_count": null,
   "id": "2ac795c4-822e-4f76-974a-4a65f0d06afe",
   "metadata": {},
   "outputs": [],
   "source": [
    "pos=nx.spring_layout(Gmin)\n",
    "from itertools import chain\n",
    "example = ['NDAR_INV04EUBGTM']\n",
    "\n",
    "##--------SET UP THE SMALLEST SPANNING NET\n",
    "for subjectkey in example:\n",
    "    adjlist2= adjacencylist.copy()\n",
    "    #set up the edge matrix -relevantcolumns is the t2 rsfmri correlations \n",
    "    edgeweights = validp.loc[subjectkey, relevantcolumns].values\n",
    "    adjlist2['weight'] = edgeweights\n",
    "    \n",
    "    #add subcortical measures \n",
    "    a= subcortt2.loc[subcortt2.index == subjectkey, 'aud_to_sub'].item()\n",
    "    b= subcortt2.loc[subcortt2.index == subjectkey, 'cingoper_to_sub'].item()\n",
    "    c= subcortt2.loc[subcortt2.index == subjectkey, 'cingpar_to_sub'].item()\n",
    "    d= subcortt2.loc[subcortt2.index == subjectkey, 'default_to_sub'].item()\n",
    "    e= subcortt2.loc[subcortt2.index == subjectkey, 'DAN_to_sub'].item()\n",
    "    f= subcortt2.loc[subcortt2.index == subjectkey, 'frontopar_to_sub'].item()\n",
    "    g= subcortt2.loc[subcortt2.index == subjectkey, 'other_to_sub'].item()\n",
    "    h= subcortt2.loc[subcortt2.index == subjectkey, 'retrotemp_to_sub'].item()\n",
    "    i= subcortt2.loc[subcortt2.index == subjectkey, 'senshand_to_sub'].item()\n",
    "    j= subcortt2.loc[subcortt2.index == subjectkey, 'sensmouth_to_sub'].item()\n",
    "    k= subcortt2.loc[subcortt2.index == subjectkey, 'salience_to_sub'].item()\n",
    "    l= subcortt2.loc[subcortt2.index == subjectkey, 'VAN_to_sub'].item()\n",
    "    m= subcortt2.loc[subcortt2.index == subjectkey, 'visual_to_sub'].item()\n",
    "    \n",
    "    #Add/update weight measures to the subcortical df \n",
    "    subcortdf['weight'] = [a,b,c,d,e,f,g,h,i,j,k,l,m]\n",
    "#     display(subcortdf)\n",
    "\n",
    "    #Append Subcortical connections to the main edgelist\n",
    "    adjlist2 = adjlist2.append(subcortdf, ignore_index=True)\n",
    "#     display(adjlist2)\n",
    "    \n",
    "    #Create graph \n",
    "    G = nx.from_pandas_edgelist(adjlist2, edge_attr='weight')\n",
    "#     print(nx.average_clustering(G, weight='weight'))\n",
    "    \n",
    "    #Make minimum spanning fully connected graph\n",
    "    Gmin = nx.minimum_spanning_tree(G, ignore_nan=True)\n",
    "#     print(nx.average_clustering(Gmin, weight='weight'))\n",
    "\n",
    "#-------------------\n",
    "    sparselist = np.linspace(0.01,.4, 40)\n",
    "    y=[]\n",
    "    counter = 0\n",
    "    for elem in sparselist: \n",
    "        counter = counter + 1\n",
    "        num_edges = round(elem*len(sortededges)).astype(np.int)\n",
    "        Gmin.add_weighted_edges_from(list(sortededges[0:num_edges].itertuples(index=False, name=None)))\n",
    "        y.append(nx.average_clustering(Gmin))\n",
    "        colors = list(chain.from_iterable(d.values() for *_, d in Gmin.edges(data=True)))\n",
    "        plt.figure(figsize=[7,5])\n",
    "        plt.margins(x=0.4)\n",
    "        nx.draw(Gmin,pos=pos, labels = labeldict, edge_cmap=plt.get_cmap('rocket_r'), edge_color = colors, node_color=\"#ffca65\", with_labels=True, font_color='black', opacity = 1, width=2 +np.abs(colors))\n",
    "        plotname = 'network'+str(counter)+'.pdf'\n",
    "        plt.savefig(plotname)\n",
    "        plt.show()"
   ]
  },
  {
   "cell_type": "code",
   "execution_count": null,
   "id": "718056de-b416-4e25-b3ba-0bb6bd8d87ad",
   "metadata": {},
   "outputs": [],
   "source": [
    "#     FILLED LINE GRAPH OF AUC \n",
    "x=sparselist\n",
    "# Area plot\n",
    "plt.fill_between(x, y, color='#ffca65')\n",
    "plt.title('Clustering coefficient under differing sparsity constraints', fontsize=12)\n",
    "plt.ylabel('clustering coefficient', fontsize=12)\n",
    "plt.xlabel('sparsity', fontsize=12)\n",
    "plt.tight_layout()\n",
    "plt.savefig('clusteringexample.pdf')\n",
    "plt.show()"
   ]
  }
 ],
 "metadata": {
  "kernelspec": {
   "display_name": "Python 3 (ipykernel)",
   "language": "python",
   "name": "python3"
  },
  "language_info": {
   "codemirror_mode": {
    "name": "ipython",
    "version": 3
   },
   "file_extension": ".py",
   "mimetype": "text/x-python",
   "name": "python",
   "nbconvert_exporter": "python",
   "pygments_lexer": "ipython3",
   "version": "3.11.3"
  }
 },
 "nbformat": 4,
 "nbformat_minor": 5
}
